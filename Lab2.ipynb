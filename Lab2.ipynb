{
 "cells": [
  {
   "cell_type": "code",
   "execution_count": 1,
   "id": "2f87c60d-4481-42c7-a89b-69663e2d858f",
   "metadata": {},
   "outputs": [],
   "source": [
    "import pandas as pd\n",
    "import numpy as np"
   ]
  },
  {
   "cell_type": "code",
   "execution_count": 2,
   "id": "1b5c6208-6789-47ef-b2cc-41a1698e6f5e",
   "metadata": {},
   "outputs": [],
   "source": [
    "df = pd.read_excel(r'C:\\Users\\sumit\\Downloads\\Lab Session Data (1).xlsx',sheet_name = None)"
   ]
  },
  {
   "cell_type": "code",
   "execution_count": 3,
   "id": "64d210e4-5f5a-4d7b-9b14-c4482fb6cd18",
   "metadata": {},
   "outputs": [
    {
     "data": {
      "text/html": [
       "<div>\n",
       "<style scoped>\n",
       "    .dataframe tbody tr th:only-of-type {\n",
       "        vertical-align: middle;\n",
       "    }\n",
       "\n",
       "    .dataframe tbody tr th {\n",
       "        vertical-align: top;\n",
       "    }\n",
       "\n",
       "    .dataframe thead th {\n",
       "        text-align: right;\n",
       "    }\n",
       "</style>\n",
       "<table border=\"1\" class=\"dataframe\">\n",
       "  <thead>\n",
       "    <tr style=\"text-align: right;\">\n",
       "      <th></th>\n",
       "      <th>Customer</th>\n",
       "      <th>Candies (#)</th>\n",
       "      <th>Mangoes (Kg)</th>\n",
       "      <th>Milk Packets (#)</th>\n",
       "      <th>Payment (Rs)</th>\n",
       "    </tr>\n",
       "  </thead>\n",
       "  <tbody>\n",
       "    <tr>\n",
       "      <th>0</th>\n",
       "      <td>C_1</td>\n",
       "      <td>20</td>\n",
       "      <td>6</td>\n",
       "      <td>2</td>\n",
       "      <td>386</td>\n",
       "    </tr>\n",
       "    <tr>\n",
       "      <th>1</th>\n",
       "      <td>C_2</td>\n",
       "      <td>16</td>\n",
       "      <td>3</td>\n",
       "      <td>6</td>\n",
       "      <td>289</td>\n",
       "    </tr>\n",
       "    <tr>\n",
       "      <th>2</th>\n",
       "      <td>C_3</td>\n",
       "      <td>27</td>\n",
       "      <td>6</td>\n",
       "      <td>2</td>\n",
       "      <td>393</td>\n",
       "    </tr>\n",
       "    <tr>\n",
       "      <th>3</th>\n",
       "      <td>C_4</td>\n",
       "      <td>19</td>\n",
       "      <td>1</td>\n",
       "      <td>2</td>\n",
       "      <td>110</td>\n",
       "    </tr>\n",
       "    <tr>\n",
       "      <th>4</th>\n",
       "      <td>C_5</td>\n",
       "      <td>24</td>\n",
       "      <td>4</td>\n",
       "      <td>2</td>\n",
       "      <td>280</td>\n",
       "    </tr>\n",
       "    <tr>\n",
       "      <th>5</th>\n",
       "      <td>C_6</td>\n",
       "      <td>22</td>\n",
       "      <td>1</td>\n",
       "      <td>5</td>\n",
       "      <td>167</td>\n",
       "    </tr>\n",
       "    <tr>\n",
       "      <th>6</th>\n",
       "      <td>C_7</td>\n",
       "      <td>15</td>\n",
       "      <td>4</td>\n",
       "      <td>2</td>\n",
       "      <td>271</td>\n",
       "    </tr>\n",
       "    <tr>\n",
       "      <th>7</th>\n",
       "      <td>C_8</td>\n",
       "      <td>18</td>\n",
       "      <td>4</td>\n",
       "      <td>2</td>\n",
       "      <td>274</td>\n",
       "    </tr>\n",
       "    <tr>\n",
       "      <th>8</th>\n",
       "      <td>C_9</td>\n",
       "      <td>21</td>\n",
       "      <td>1</td>\n",
       "      <td>4</td>\n",
       "      <td>148</td>\n",
       "    </tr>\n",
       "    <tr>\n",
       "      <th>9</th>\n",
       "      <td>C_10</td>\n",
       "      <td>16</td>\n",
       "      <td>2</td>\n",
       "      <td>4</td>\n",
       "      <td>198</td>\n",
       "    </tr>\n",
       "  </tbody>\n",
       "</table>\n",
       "</div>"
      ],
      "text/plain": [
       "  Customer  Candies (#)  Mangoes (Kg)  Milk Packets (#)  Payment (Rs)\n",
       "0      C_1           20             6                 2           386\n",
       "1      C_2           16             3                 6           289\n",
       "2      C_3           27             6                 2           393\n",
       "3      C_4           19             1                 2           110\n",
       "4      C_5           24             4                 2           280\n",
       "5      C_6           22             1                 5           167\n",
       "6      C_7           15             4                 2           271\n",
       "7      C_8           18             4                 2           274\n",
       "8      C_9           21             1                 4           148\n",
       "9     C_10           16             2                 4           198"
      ]
     },
     "execution_count": 3,
     "metadata": {},
     "output_type": "execute_result"
    }
   ],
   "source": [
    "data = df['Purchase data'].iloc[:,0:5]\n",
    "data"
   ]
  },
  {
   "cell_type": "code",
   "execution_count": 4,
   "id": "407c4071-3496-4e82-a6bf-f6c259b2b896",
   "metadata": {},
   "outputs": [
    {
     "data": {
      "text/plain": [
       "array([[20,  6,  2],\n",
       "       [16,  3,  6],\n",
       "       [27,  6,  2],\n",
       "       [19,  1,  2],\n",
       "       [24,  4,  2],\n",
       "       [22,  1,  5],\n",
       "       [15,  4,  2],\n",
       "       [18,  4,  2],\n",
       "       [21,  1,  4],\n",
       "       [16,  2,  4]], dtype=int64)"
      ]
     },
     "execution_count": 4,
     "metadata": {},
     "output_type": "execute_result"
    }
   ],
   "source": [
    "A = np.array(data.iloc[:,1:4])\n",
    "A"
   ]
  },
  {
   "cell_type": "code",
   "execution_count": 5,
   "id": "428a5b35-c4f4-43fb-a68d-7c0c84c21dfe",
   "metadata": {},
   "outputs": [
    {
     "data": {
      "text/plain": [
       "array([386, 289, 393, 110, 280, 167, 271, 274, 148, 198], dtype=int64)"
      ]
     },
     "execution_count": 5,
     "metadata": {},
     "output_type": "execute_result"
    }
   ],
   "source": [
    "C = np.array(data.iloc[:,4])\n",
    "C"
   ]
  },
  {
   "cell_type": "code",
   "execution_count": 6,
   "id": "f169a9eb-a9db-4b16-85e5-97c88584d38a",
   "metadata": {},
   "outputs": [
    {
     "name": "stdout",
     "output_type": "stream",
     "text": [
      "Dimensionality of the vector space: 3\n"
     ]
    }
   ],
   "source": [
    "# Dimensionality of the vector space\n",
    "dimensionality = A.shape[1]\n",
    "print(f\"Dimensionality of the vector space: {dimensionality}\")"
   ]
  },
  {
   "cell_type": "code",
   "execution_count": 7,
   "id": "b56f8717-1d2e-4d7f-a525-9e21572c2327",
   "metadata": {},
   "outputs": [
    {
     "name": "stdout",
     "output_type": "stream",
     "text": [
      "Total Number of vectors in the vector space: 10\n"
     ]
    }
   ],
   "source": [
    "# Number of vectors in the vector space\n",
    "numOfvectors = A.shape[0]\n",
    "print(f\"Total Number of vectors in the vector space: {numOfvectors}\")"
   ]
  },
  {
   "cell_type": "code",
   "execution_count": 8,
   "id": "2c80b994-1f73-4102-b16f-eea6999edddf",
   "metadata": {},
   "outputs": [
    {
     "name": "stdout",
     "output_type": "stream",
     "text": [
      "Rank of Matrix A: 3\n"
     ]
    }
   ],
   "source": [
    "# Rank of matrix A\n",
    "rankOfA = np.linalg.matrix_rank(A)\n",
    "print(f\"Rank of Matrix A: {rankOfA}\")"
   ]
  },
  {
   "cell_type": "code",
   "execution_count": 9,
   "id": "c5c3f59d-43d0-469f-81a6-227d9edcc9a9",
   "metadata": {},
   "outputs": [
    {
     "name": "stdout",
     "output_type": "stream",
     "text": [
      "Cost of each product: [ 1. 55. 18.]\n"
     ]
    }
   ],
   "source": [
    "# Pseudo-inverse of matrix A\n",
    "A_pseudo_inv = np.linalg.pinv(A)\n",
    "\n",
    "# Calculate Cost of each product\n",
    "X = np.dot(A_pseudo_inv, C)\n",
    "print(\"Cost of each product:\", X)"
   ]
  },
  {
   "cell_type": "code",
   "execution_count": 10,
   "id": "8466cc3b-ddd9-4bb3-9df2-8d2a0ca66ba7",
   "metadata": {},
   "outputs": [
    {
     "data": {
      "text/html": [
       "<div>\n",
       "<style scoped>\n",
       "    .dataframe tbody tr th:only-of-type {\n",
       "        vertical-align: middle;\n",
       "    }\n",
       "\n",
       "    .dataframe tbody tr th {\n",
       "        vertical-align: top;\n",
       "    }\n",
       "\n",
       "    .dataframe thead th {\n",
       "        text-align: right;\n",
       "    }\n",
       "</style>\n",
       "<table border=\"1\" class=\"dataframe\">\n",
       "  <thead>\n",
       "    <tr style=\"text-align: right;\">\n",
       "      <th></th>\n",
       "      <th>Customer</th>\n",
       "      <th>Candies (#)</th>\n",
       "      <th>Mangoes (Kg)</th>\n",
       "      <th>Milk Packets (#)</th>\n",
       "      <th>Payment (Rs)</th>\n",
       "      <th>Category</th>\n",
       "    </tr>\n",
       "  </thead>\n",
       "  <tbody>\n",
       "    <tr>\n",
       "      <th>0</th>\n",
       "      <td>C_1</td>\n",
       "      <td>20</td>\n",
       "      <td>6</td>\n",
       "      <td>2</td>\n",
       "      <td>386</td>\n",
       "      <td>RICH</td>\n",
       "    </tr>\n",
       "    <tr>\n",
       "      <th>1</th>\n",
       "      <td>C_2</td>\n",
       "      <td>16</td>\n",
       "      <td>3</td>\n",
       "      <td>6</td>\n",
       "      <td>289</td>\n",
       "      <td>RICH</td>\n",
       "    </tr>\n",
       "    <tr>\n",
       "      <th>2</th>\n",
       "      <td>C_3</td>\n",
       "      <td>27</td>\n",
       "      <td>6</td>\n",
       "      <td>2</td>\n",
       "      <td>393</td>\n",
       "      <td>RICH</td>\n",
       "    </tr>\n",
       "    <tr>\n",
       "      <th>3</th>\n",
       "      <td>C_4</td>\n",
       "      <td>19</td>\n",
       "      <td>1</td>\n",
       "      <td>2</td>\n",
       "      <td>110</td>\n",
       "      <td>POOR</td>\n",
       "    </tr>\n",
       "    <tr>\n",
       "      <th>4</th>\n",
       "      <td>C_5</td>\n",
       "      <td>24</td>\n",
       "      <td>4</td>\n",
       "      <td>2</td>\n",
       "      <td>280</td>\n",
       "      <td>RICH</td>\n",
       "    </tr>\n",
       "    <tr>\n",
       "      <th>5</th>\n",
       "      <td>C_6</td>\n",
       "      <td>22</td>\n",
       "      <td>1</td>\n",
       "      <td>5</td>\n",
       "      <td>167</td>\n",
       "      <td>POOR</td>\n",
       "    </tr>\n",
       "    <tr>\n",
       "      <th>6</th>\n",
       "      <td>C_7</td>\n",
       "      <td>15</td>\n",
       "      <td>4</td>\n",
       "      <td>2</td>\n",
       "      <td>271</td>\n",
       "      <td>RICH</td>\n",
       "    </tr>\n",
       "    <tr>\n",
       "      <th>7</th>\n",
       "      <td>C_8</td>\n",
       "      <td>18</td>\n",
       "      <td>4</td>\n",
       "      <td>2</td>\n",
       "      <td>274</td>\n",
       "      <td>RICH</td>\n",
       "    </tr>\n",
       "    <tr>\n",
       "      <th>8</th>\n",
       "      <td>C_9</td>\n",
       "      <td>21</td>\n",
       "      <td>1</td>\n",
       "      <td>4</td>\n",
       "      <td>148</td>\n",
       "      <td>POOR</td>\n",
       "    </tr>\n",
       "    <tr>\n",
       "      <th>9</th>\n",
       "      <td>C_10</td>\n",
       "      <td>16</td>\n",
       "      <td>2</td>\n",
       "      <td>4</td>\n",
       "      <td>198</td>\n",
       "      <td>POOR</td>\n",
       "    </tr>\n",
       "  </tbody>\n",
       "</table>\n",
       "</div>"
      ],
      "text/plain": [
       "  Customer  Candies (#)  Mangoes (Kg)  Milk Packets (#)  Payment (Rs) Category\n",
       "0      C_1           20             6                 2           386     RICH\n",
       "1      C_2           16             3                 6           289     RICH\n",
       "2      C_3           27             6                 2           393     RICH\n",
       "3      C_4           19             1                 2           110     POOR\n",
       "4      C_5           24             4                 2           280     RICH\n",
       "5      C_6           22             1                 5           167     POOR\n",
       "6      C_7           15             4                 2           271     RICH\n",
       "7      C_8           18             4                 2           274     RICH\n",
       "8      C_9           21             1                 4           148     POOR\n",
       "9     C_10           16             2                 4           198     POOR"
      ]
     },
     "execution_count": 10,
     "metadata": {},
     "output_type": "execute_result"
    }
   ],
   "source": [
    "# Marking customers as RICH or POOR\n",
    "data['Category'] = np.where(data['Payment (Rs)'] > 200, 'RICH', 'POOR')\n",
    "data\n",
    "# # Prepare features and labels\n",
    "# features = data.iloc[:, :-2].values\n",
    "# labels = data['Category'].values"
   ]
  },
  {
   "cell_type": "code",
   "execution_count": 17,
   "id": "14c4cbdd-f244-47bc-be1d-7449b1a601a9",
   "metadata": {},
   "outputs": [
    {
     "name": "stdout",
     "output_type": "stream",
     "text": [
      "Mean of Price: 1560.6634538152612, Variance of Price: 58732.36535253922\n"
     ]
    }
   ],
   "source": [
    "# Load the IRCTC Stock Price data\n",
    "irctc_data = pd.read_excel(r'C:\\Users\\sumit\\Downloads\\Lab Session Data (1).xlsx', sheet_name='IRCTC Stock Price')\n",
    "\n",
    "# Calculate mean and variance\n",
    "price_mean = irctc_data['Price'].mean()\n",
    "price_variance = irctc_data['Price'].var()\n",
    "print(f\"Mean of Price: {price_mean}, Variance of Price: {price_variance}\")"
   ]
  },
  {
   "cell_type": "code",
   "execution_count": 19,
   "id": "4c287efa-84a4-4d96-bef2-6f9f85ea15d0",
   "metadata": {},
   "outputs": [
    {
     "data": {
      "text/html": [
       "<div>\n",
       "<style scoped>\n",
       "    .dataframe tbody tr th:only-of-type {\n",
       "        vertical-align: middle;\n",
       "    }\n",
       "\n",
       "    .dataframe tbody tr th {\n",
       "        vertical-align: top;\n",
       "    }\n",
       "\n",
       "    .dataframe thead th {\n",
       "        text-align: right;\n",
       "    }\n",
       "</style>\n",
       "<table border=\"1\" class=\"dataframe\">\n",
       "  <thead>\n",
       "    <tr style=\"text-align: right;\">\n",
       "      <th></th>\n",
       "      <th>Date</th>\n",
       "      <th>Month</th>\n",
       "      <th>Day</th>\n",
       "      <th>Price</th>\n",
       "      <th>Open</th>\n",
       "      <th>High</th>\n",
       "      <th>Low</th>\n",
       "      <th>Volume</th>\n",
       "      <th>Chg%</th>\n",
       "    </tr>\n",
       "  </thead>\n",
       "  <tbody>\n",
       "    <tr>\n",
       "      <th>0</th>\n",
       "      <td>2021-06-29</td>\n",
       "      <td>Jun</td>\n",
       "      <td>Tue</td>\n",
       "      <td>2081.85</td>\n",
       "      <td>2092.00</td>\n",
       "      <td>2126.90</td>\n",
       "      <td>2065.05</td>\n",
       "      <td>1.67M</td>\n",
       "      <td>0.0020</td>\n",
       "    </tr>\n",
       "    <tr>\n",
       "      <th>1</th>\n",
       "      <td>2021-06-28</td>\n",
       "      <td>Jun</td>\n",
       "      <td>Mon</td>\n",
       "      <td>2077.75</td>\n",
       "      <td>2084.00</td>\n",
       "      <td>2112.45</td>\n",
       "      <td>2068.40</td>\n",
       "      <td>707.73K</td>\n",
       "      <td>0.0043</td>\n",
       "    </tr>\n",
       "    <tr>\n",
       "      <th>2</th>\n",
       "      <td>2021-06-25</td>\n",
       "      <td>Jun</td>\n",
       "      <td>Fri</td>\n",
       "      <td>2068.85</td>\n",
       "      <td>2084.35</td>\n",
       "      <td>2088.50</td>\n",
       "      <td>2053.10</td>\n",
       "      <td>475.82K</td>\n",
       "      <td>-0.0020</td>\n",
       "    </tr>\n",
       "    <tr>\n",
       "      <th>3</th>\n",
       "      <td>2021-06-24</td>\n",
       "      <td>Jun</td>\n",
       "      <td>Thu</td>\n",
       "      <td>2072.95</td>\n",
       "      <td>2098.00</td>\n",
       "      <td>2098.00</td>\n",
       "      <td>2066.00</td>\n",
       "      <td>541.51K</td>\n",
       "      <td>-0.0026</td>\n",
       "    </tr>\n",
       "    <tr>\n",
       "      <th>4</th>\n",
       "      <td>2021-06-23</td>\n",
       "      <td>Jun</td>\n",
       "      <td>Wed</td>\n",
       "      <td>2078.25</td>\n",
       "      <td>2102.00</td>\n",
       "      <td>2111.40</td>\n",
       "      <td>2072.00</td>\n",
       "      <td>809.62K</td>\n",
       "      <td>-0.0023</td>\n",
       "    </tr>\n",
       "    <tr>\n",
       "      <th>...</th>\n",
       "      <td>...</td>\n",
       "      <td>...</td>\n",
       "      <td>...</td>\n",
       "      <td>...</td>\n",
       "      <td>...</td>\n",
       "      <td>...</td>\n",
       "      <td>...</td>\n",
       "      <td>...</td>\n",
       "      <td>...</td>\n",
       "    </tr>\n",
       "    <tr>\n",
       "      <th>244</th>\n",
       "      <td>2020-07-07</td>\n",
       "      <td>Jul</td>\n",
       "      <td>Tue</td>\n",
       "      <td>1397.40</td>\n",
       "      <td>1410.00</td>\n",
       "      <td>1411.00</td>\n",
       "      <td>1390.05</td>\n",
       "      <td>480.21K</td>\n",
       "      <td>-0.0024</td>\n",
       "    </tr>\n",
       "    <tr>\n",
       "      <th>245</th>\n",
       "      <td>2020-07-06</td>\n",
       "      <td>Jul</td>\n",
       "      <td>Mon</td>\n",
       "      <td>1400.75</td>\n",
       "      <td>1405.50</td>\n",
       "      <td>1415.50</td>\n",
       "      <td>1394.00</td>\n",
       "      <td>614.93K</td>\n",
       "      <td>-0.0031</td>\n",
       "    </tr>\n",
       "    <tr>\n",
       "      <th>246</th>\n",
       "      <td>2020-07-03</td>\n",
       "      <td>Jul</td>\n",
       "      <td>Fri</td>\n",
       "      <td>1405.10</td>\n",
       "      <td>1415.00</td>\n",
       "      <td>1425.00</td>\n",
       "      <td>1398.00</td>\n",
       "      <td>599.49K</td>\n",
       "      <td>-0.0051</td>\n",
       "    </tr>\n",
       "    <tr>\n",
       "      <th>247</th>\n",
       "      <td>2020-07-02</td>\n",
       "      <td>Jul</td>\n",
       "      <td>Thu</td>\n",
       "      <td>1412.35</td>\n",
       "      <td>1440.00</td>\n",
       "      <td>1467.80</td>\n",
       "      <td>1395.30</td>\n",
       "      <td>2.16M</td>\n",
       "      <td>0.0362</td>\n",
       "    </tr>\n",
       "    <tr>\n",
       "      <th>248</th>\n",
       "      <td>2020-07-01</td>\n",
       "      <td>Jul</td>\n",
       "      <td>Wed</td>\n",
       "      <td>1363.05</td>\n",
       "      <td>1363.65</td>\n",
       "      <td>1377.00</td>\n",
       "      <td>1356.00</td>\n",
       "      <td>383.00K</td>\n",
       "      <td>0.0032</td>\n",
       "    </tr>\n",
       "  </tbody>\n",
       "</table>\n",
       "<p>249 rows × 9 columns</p>\n",
       "</div>"
      ],
      "text/plain": [
       "          Date Month  Day    Price     Open     High      Low   Volume    Chg%\n",
       "0   2021-06-29   Jun  Tue  2081.85  2092.00  2126.90  2065.05    1.67M  0.0020\n",
       "1   2021-06-28   Jun  Mon  2077.75  2084.00  2112.45  2068.40  707.73K  0.0043\n",
       "2   2021-06-25   Jun  Fri  2068.85  2084.35  2088.50  2053.10  475.82K -0.0020\n",
       "3   2021-06-24   Jun  Thu  2072.95  2098.00  2098.00  2066.00  541.51K -0.0026\n",
       "4   2021-06-23   Jun  Wed  2078.25  2102.00  2111.40  2072.00  809.62K -0.0023\n",
       "..         ...   ...  ...      ...      ...      ...      ...      ...     ...\n",
       "244 2020-07-07   Jul  Tue  1397.40  1410.00  1411.00  1390.05  480.21K -0.0024\n",
       "245 2020-07-06   Jul  Mon  1400.75  1405.50  1415.50  1394.00  614.93K -0.0031\n",
       "246 2020-07-03   Jul  Fri  1405.10  1415.00  1425.00  1398.00  599.49K -0.0051\n",
       "247 2020-07-02   Jul  Thu  1412.35  1440.00  1467.80  1395.30    2.16M  0.0362\n",
       "248 2020-07-01   Jul  Wed  1363.05  1363.65  1377.00  1356.00  383.00K  0.0032\n",
       "\n",
       "[249 rows x 9 columns]"
      ]
     },
     "execution_count": 19,
     "metadata": {},
     "output_type": "execute_result"
    }
   ],
   "source": [
    "irctc_data"
   ]
  },
  {
   "cell_type": "code",
   "execution_count": 21,
   "id": "029a2cbc-7a19-4108-8ae8-4e8b341fe023",
   "metadata": {},
   "outputs": [
    {
     "name": "stdout",
     "output_type": "stream",
     "text": [
      "Sample mean for Wednesdays: 1550.7060000000001\n"
     ]
    }
   ],
   "source": [
    "# Ensure the 'Date' column is in datetime format\n",
    "irctc_data['Date'] = pd.to_datetime(irctc_data['Date'])\n",
    "\n",
    "# Calculate sample mean for Wednesdays\n",
    "wednesday_data = irctc_data[irctc_data['Date'].dt.weekday == 2]\n",
    "wednesday_mean = wednesday_data['Price'].mean()\n",
    "print(f\"Sample mean for Wednesdays: {wednesday_mean}\")"
   ]
  },
  {
   "cell_type": "code",
   "execution_count": 22,
   "id": "ed1e49e9-725e-4c88-87cf-12d466f5a086",
   "metadata": {},
   "outputs": [
    {
     "name": "stdout",
     "output_type": "stream",
     "text": [
      "Sample mean for April: 1698.9526315789474\n"
     ]
    }
   ],
   "source": [
    "# Calculate sample mean for April\n",
    "april_data = irctc_data[irctc_data['Date'].dt.month == 4]\n",
    "april_mean = april_data['Price'].mean()\n",
    "print(f\"Sample mean for April: {april_mean}\")"
   ]
  },
  {
   "cell_type": "code",
   "execution_count": 23,
   "id": "3e20b701-0b33-44e0-9fb2-39a62bb4c6f6",
   "metadata": {},
   "outputs": [
    {
     "name": "stdout",
     "output_type": "stream",
     "text": [
      "Probability of making a loss: 0.4979919678714859\n",
      "Probability of making a profit on Wednesday: 0.42\n"
     ]
    }
   ],
   "source": [
    "# Probability of making a loss over the stock\n",
    "#  Boolean Series where True indicates a loss (negative change) and False indicates a profit\n",
    "loss_prob = (irctc_data['Chg%'] < 0).mean()\n",
    "print(f\"Probability of making a loss: {loss_prob}\")\n",
    "\n",
    "# Probability of making a profit on Wednesday\n",
    "profit_wed_prob = (wednesday_data['Chg%'] > 0).mean()\n",
    "print(f\"Probability of making a profit on Wednesday: {profit_wed_prob}\")"
   ]
  },
  {
   "cell_type": "code",
   "execution_count": 24,
   "id": "3f879627-0e4e-4fc8-b9e5-79e8ae26499b",
   "metadata": {},
   "outputs": [
    {
     "name": "stdout",
     "output_type": "stream",
     "text": [
      "Conditional probability of making profit given the day is Wednesday: 0.8433870967741935\n"
     ]
    }
   ],
   "source": [
    "# Conditional probability of making profit given that today is Wednesday\n",
    "conditional_probab = profit_wed_prob / (irctc_data['Chg%'] > 0).mean()\n",
    "print(f\"Conditional probability of making profit given the day is Wednesday: {conditional_probab}\")"
   ]
  },
  {
   "cell_type": "code",
   "execution_count": 27,
   "id": "5645f46c-b2d4-47d7-bd54-c0521279f552",
   "metadata": {},
   "outputs": [],
   "source": [
    "\n",
    "# import seaborn as sns\n",
    "import matplotlib.pyplot as plt"
   ]
  },
  {
   "cell_type": "code",
   "execution_count": 30,
   "id": "b4c5823c-ef91-42f7-a705-1e7a7e011697",
   "metadata": {},
   "outputs": [
    {
     "data": {
      "image/png": "[encoded data removed]",
      "text/plain": [
       "<Figure size 640x480 with 1 Axes>"
      ]
     },
     "metadata": {},
     "output_type": "display_data"
    }
   ],
   "source": [
    "# Scatter plot of Chg% data against the day of the week\n",
    "# irctc_data['Day of Week'] = irctc_data['Date'].dt.day_name()\n",
    "plt.scatter(x='Day', y='Chg%', data=irctc_data)\n",
    "plt.xlabel('Day of the Week')\n",
    "plt.ylabel('Chg%')\n",
    "plt.title('Chg% vs Day of the Week')\n",
    "plt.show()"
   ]
  },
  {
   "cell_type": "code",
   "execution_count": 31,
   "id": "3937d3e0-0041-4487-bd33-c9ecf922fed5",
   "metadata": {
    "scrolled": true
   },
   "outputs": [
    {
     "data": {
      "text/html": [
       "<div>\n",
       "<style scoped>\n",
       "    .dataframe tbody tr th:only-of-type {\n",
       "        vertical-align: middle;\n",
       "    }\n",
       "\n",
       "    .dataframe tbody tr th {\n",
       "        vertical-align: top;\n",
       "    }\n",
       "\n",
       "    .dataframe thead th {\n",
       "        text-align: right;\n",
       "    }\n",
       "</style>\n",
       "<table border=\"1\" class=\"dataframe\">\n",
       "  <thead>\n",
       "    <tr style=\"text-align: right;\">\n",
       "      <th></th>\n",
       "      <th>Record ID</th>\n",
       "      <th>age</th>\n",
       "      <th>sex</th>\n",
       "      <th>on thyroxine</th>\n",
       "      <th>query on thyroxine</th>\n",
       "      <th>on antithyroid medication</th>\n",
       "      <th>sick</th>\n",
       "      <th>pregnant</th>\n",
       "      <th>thyroid surgery</th>\n",
       "      <th>I131 treatment</th>\n",
       "      <th>...</th>\n",
       "      <th>TT4 measured</th>\n",
       "      <th>TT4</th>\n",
       "      <th>T4U measured</th>\n",
       "      <th>T4U</th>\n",
       "      <th>FTI measured</th>\n",
       "      <th>FTI</th>\n",
       "      <th>TBG measured</th>\n",
       "      <th>TBG</th>\n",
       "      <th>referral source</th>\n",
       "      <th>Condition</th>\n",
       "    </tr>\n",
       "  </thead>\n",
       "  <tbody>\n",
       "    <tr>\n",
       "      <th>0</th>\n",
       "      <td>840801013</td>\n",
       "      <td>29</td>\n",
       "      <td>F</td>\n",
       "      <td>f</td>\n",
       "      <td>f</td>\n",
       "      <td>f</td>\n",
       "      <td>f</td>\n",
       "      <td>f</td>\n",
       "      <td>f</td>\n",
       "      <td>f</td>\n",
       "      <td>...</td>\n",
       "      <td>f</td>\n",
       "      <td>?</td>\n",
       "      <td>f</td>\n",
       "      <td>?</td>\n",
       "      <td>f</td>\n",
       "      <td>?</td>\n",
       "      <td>f</td>\n",
       "      <td>?</td>\n",
       "      <td>other</td>\n",
       "      <td>NO CONDITION</td>\n",
       "    </tr>\n",
       "    <tr>\n",
       "      <th>1</th>\n",
       "      <td>840801014</td>\n",
       "      <td>29</td>\n",
       "      <td>F</td>\n",
       "      <td>f</td>\n",
       "      <td>f</td>\n",
       "      <td>f</td>\n",
       "      <td>f</td>\n",
       "      <td>f</td>\n",
       "      <td>f</td>\n",
       "      <td>f</td>\n",
       "      <td>...</td>\n",
       "      <td>t</td>\n",
       "      <td>128</td>\n",
       "      <td>f</td>\n",
       "      <td>?</td>\n",
       "      <td>f</td>\n",
       "      <td>?</td>\n",
       "      <td>f</td>\n",
       "      <td>?</td>\n",
       "      <td>other</td>\n",
       "      <td>NO CONDITION</td>\n",
       "    </tr>\n",
       "    <tr>\n",
       "      <th>2</th>\n",
       "      <td>840801042</td>\n",
       "      <td>41</td>\n",
       "      <td>F</td>\n",
       "      <td>f</td>\n",
       "      <td>f</td>\n",
       "      <td>f</td>\n",
       "      <td>f</td>\n",
       "      <td>f</td>\n",
       "      <td>f</td>\n",
       "      <td>f</td>\n",
       "      <td>...</td>\n",
       "      <td>f</td>\n",
       "      <td>?</td>\n",
       "      <td>f</td>\n",
       "      <td>?</td>\n",
       "      <td>f</td>\n",
       "      <td>?</td>\n",
       "      <td>t</td>\n",
       "      <td>11</td>\n",
       "      <td>other</td>\n",
       "      <td>NO CONDITION</td>\n",
       "    </tr>\n",
       "    <tr>\n",
       "      <th>3</th>\n",
       "      <td>840803046</td>\n",
       "      <td>36</td>\n",
       "      <td>F</td>\n",
       "      <td>f</td>\n",
       "      <td>f</td>\n",
       "      <td>f</td>\n",
       "      <td>f</td>\n",
       "      <td>f</td>\n",
       "      <td>f</td>\n",
       "      <td>f</td>\n",
       "      <td>...</td>\n",
       "      <td>f</td>\n",
       "      <td>?</td>\n",
       "      <td>f</td>\n",
       "      <td>?</td>\n",
       "      <td>f</td>\n",
       "      <td>?</td>\n",
       "      <td>t</td>\n",
       "      <td>26</td>\n",
       "      <td>other</td>\n",
       "      <td>NO CONDITION</td>\n",
       "    </tr>\n",
       "    <tr>\n",
       "      <th>4</th>\n",
       "      <td>840803047</td>\n",
       "      <td>32</td>\n",
       "      <td>F</td>\n",
       "      <td>f</td>\n",
       "      <td>f</td>\n",
       "      <td>f</td>\n",
       "      <td>f</td>\n",
       "      <td>f</td>\n",
       "      <td>f</td>\n",
       "      <td>f</td>\n",
       "      <td>...</td>\n",
       "      <td>f</td>\n",
       "      <td>?</td>\n",
       "      <td>f</td>\n",
       "      <td>?</td>\n",
       "      <td>f</td>\n",
       "      <td>?</td>\n",
       "      <td>t</td>\n",
       "      <td>36</td>\n",
       "      <td>other</td>\n",
       "      <td>S</td>\n",
       "    </tr>\n",
       "    <tr>\n",
       "      <th>...</th>\n",
       "      <td>...</td>\n",
       "      <td>...</td>\n",
       "      <td>...</td>\n",
       "      <td>...</td>\n",
       "      <td>...</td>\n",
       "      <td>...</td>\n",
       "      <td>...</td>\n",
       "      <td>...</td>\n",
       "      <td>...</td>\n",
       "      <td>...</td>\n",
       "      <td>...</td>\n",
       "      <td>...</td>\n",
       "      <td>...</td>\n",
       "      <td>...</td>\n",
       "      <td>...</td>\n",
       "      <td>...</td>\n",
       "      <td>...</td>\n",
       "      <td>...</td>\n",
       "      <td>...</td>\n",
       "      <td>...</td>\n",
       "      <td>...</td>\n",
       "    </tr>\n",
       "    <tr>\n",
       "      <th>9167</th>\n",
       "      <td>870119022</td>\n",
       "      <td>56</td>\n",
       "      <td>M</td>\n",
       "      <td>f</td>\n",
       "      <td>f</td>\n",
       "      <td>f</td>\n",
       "      <td>f</td>\n",
       "      <td>f</td>\n",
       "      <td>f</td>\n",
       "      <td>f</td>\n",
       "      <td>...</td>\n",
       "      <td>t</td>\n",
       "      <td>64</td>\n",
       "      <td>t</td>\n",
       "      <td>0.83</td>\n",
       "      <td>t</td>\n",
       "      <td>77</td>\n",
       "      <td>f</td>\n",
       "      <td>?</td>\n",
       "      <td>SVI</td>\n",
       "      <td>NO CONDITION</td>\n",
       "    </tr>\n",
       "    <tr>\n",
       "      <th>9168</th>\n",
       "      <td>870119023</td>\n",
       "      <td>22</td>\n",
       "      <td>M</td>\n",
       "      <td>f</td>\n",
       "      <td>f</td>\n",
       "      <td>f</td>\n",
       "      <td>f</td>\n",
       "      <td>f</td>\n",
       "      <td>f</td>\n",
       "      <td>f</td>\n",
       "      <td>...</td>\n",
       "      <td>t</td>\n",
       "      <td>91</td>\n",
       "      <td>t</td>\n",
       "      <td>0.92</td>\n",
       "      <td>t</td>\n",
       "      <td>99</td>\n",
       "      <td>f</td>\n",
       "      <td>?</td>\n",
       "      <td>SVI</td>\n",
       "      <td>NO CONDITION</td>\n",
       "    </tr>\n",
       "    <tr>\n",
       "      <th>9169</th>\n",
       "      <td>870119025</td>\n",
       "      <td>69</td>\n",
       "      <td>M</td>\n",
       "      <td>f</td>\n",
       "      <td>f</td>\n",
       "      <td>f</td>\n",
       "      <td>f</td>\n",
       "      <td>f</td>\n",
       "      <td>f</td>\n",
       "      <td>f</td>\n",
       "      <td>...</td>\n",
       "      <td>t</td>\n",
       "      <td>113</td>\n",
       "      <td>t</td>\n",
       "      <td>1.27</td>\n",
       "      <td>t</td>\n",
       "      <td>89</td>\n",
       "      <td>f</td>\n",
       "      <td>?</td>\n",
       "      <td>SVI</td>\n",
       "      <td>I</td>\n",
       "    </tr>\n",
       "    <tr>\n",
       "      <th>9170</th>\n",
       "      <td>870119027</td>\n",
       "      <td>47</td>\n",
       "      <td>F</td>\n",
       "      <td>f</td>\n",
       "      <td>f</td>\n",
       "      <td>f</td>\n",
       "      <td>f</td>\n",
       "      <td>f</td>\n",
       "      <td>f</td>\n",
       "      <td>f</td>\n",
       "      <td>...</td>\n",
       "      <td>t</td>\n",
       "      <td>75</td>\n",
       "      <td>t</td>\n",
       "      <td>0.85</td>\n",
       "      <td>t</td>\n",
       "      <td>88</td>\n",
       "      <td>f</td>\n",
       "      <td>?</td>\n",
       "      <td>other</td>\n",
       "      <td>NO CONDITION</td>\n",
       "    </tr>\n",
       "    <tr>\n",
       "      <th>9171</th>\n",
       "      <td>870119035</td>\n",
       "      <td>31</td>\n",
       "      <td>M</td>\n",
       "      <td>f</td>\n",
       "      <td>f</td>\n",
       "      <td>f</td>\n",
       "      <td>f</td>\n",
       "      <td>f</td>\n",
       "      <td>f</td>\n",
       "      <td>f</td>\n",
       "      <td>...</td>\n",
       "      <td>t</td>\n",
       "      <td>66</td>\n",
       "      <td>t</td>\n",
       "      <td>1.02</td>\n",
       "      <td>t</td>\n",
       "      <td>65</td>\n",
       "      <td>f</td>\n",
       "      <td>?</td>\n",
       "      <td>other</td>\n",
       "      <td>NO CONDITION</td>\n",
       "    </tr>\n",
       "  </tbody>\n",
       "</table>\n",
       "<p>9172 rows × 31 columns</p>\n",
       "</div>"
      ],
      "text/plain": [
       "      Record ID  age sex on thyroxine query on thyroxine  \\\n",
       "0     840801013   29   F            f                  f   \n",
       "1     840801014   29   F            f                  f   \n",
       "2     840801042   41   F            f                  f   \n",
       "3     840803046   36   F            f                  f   \n",
       "4     840803047   32   F            f                  f   \n",
       "...         ...  ...  ..          ...                ...   \n",
       "9167  870119022   56   M            f                  f   \n",
       "9168  870119023   22   M            f                  f   \n",
       "9169  870119025   69   M            f                  f   \n",
       "9170  870119027   47   F            f                  f   \n",
       "9171  870119035   31   M            f                  f   \n",
       "\n",
       "     on antithyroid medication sick pregnant thyroid surgery I131 treatment  \\\n",
       "0                            f    f        f               f              f   \n",
       "1                            f    f        f               f              f   \n",
       "2                            f    f        f               f              f   \n",
       "3                            f    f        f               f              f   \n",
       "4                            f    f        f               f              f   \n",
       "...                        ...  ...      ...             ...            ...   \n",
       "9167                         f    f        f               f              f   \n",
       "9168                         f    f        f               f              f   \n",
       "9169                         f    f        f               f              f   \n",
       "9170                         f    f        f               f              f   \n",
       "9171                         f    f        f               f              f   \n",
       "\n",
       "      ... TT4 measured  TT4 T4U measured   T4U FTI measured FTI TBG measured  \\\n",
       "0     ...            f    ?            f     ?            f   ?            f   \n",
       "1     ...            t  128            f     ?            f   ?            f   \n",
       "2     ...            f    ?            f     ?            f   ?            t   \n",
       "3     ...            f    ?            f     ?            f   ?            t   \n",
       "4     ...            f    ?            f     ?            f   ?            t   \n",
       "...   ...          ...  ...          ...   ...          ...  ..          ...   \n",
       "9167  ...            t   64            t  0.83            t  77            f   \n",
       "9168  ...            t   91            t  0.92            t  99            f   \n",
       "9169  ...            t  113            t  1.27            t  89            f   \n",
       "9170  ...            t   75            t  0.85            t  88            f   \n",
       "9171  ...            t   66            t  1.02            t  65            f   \n",
       "\n",
       "     TBG referral source     Condition  \n",
       "0      ?           other  NO CONDITION  \n",
       "1      ?           other  NO CONDITION  \n",
       "2     11           other  NO CONDITION  \n",
       "3     26           other  NO CONDITION  \n",
       "4     36           other             S  \n",
       "...   ..             ...           ...  \n",
       "9167   ?             SVI  NO CONDITION  \n",
       "9168   ?             SVI  NO CONDITION  \n",
       "9169   ?             SVI             I  \n",
       "9170   ?           other  NO CONDITION  \n",
       "9171   ?           other  NO CONDITION  \n",
       "\n",
       "[9172 rows x 31 columns]"
      ]
     },
     "execution_count": 31,
     "metadata": {},
     "output_type": "execute_result"
    }
   ],
   "source": [
    "# Load the thyroid data\n",
    "thyroid_data = pd.read_excel(r'C:\\Users\\sumit\\Downloads\\Lab Session Data (1).xlsx', sheet_name='thyroid0387_UCI')\n",
    "thyroid_data\n"
   ]
  },
  {
   "cell_type": "code",
   "execution_count": 33,
   "id": "f6ff8011-5550-4ed4-b040-f81afc815602",
   "metadata": {},
   "outputs": [
    {
     "name": "stdout",
     "output_type": "stream",
     "text": [
      "Numeric Columns: Index(['Record ID', 'age'], dtype='object')\n",
      "\n",
      "Categorical Columns: Index(['sex', 'on thyroxine', 'query on thyroxine',\n",
      "       'on antithyroid medication', 'sick', 'pregnant', 'thyroid surgery',\n",
      "       'I131 treatment', 'query hypothyroid', 'query hyperthyroid', 'lithium',\n",
      "       'goitre', 'tumor', 'hypopituitary', 'psych', 'TSH measured', 'TSH',\n",
      "       'T3 measured', 'T3', 'TT4 measured', 'TT4', 'T4U measured', 'T4U',\n",
      "       'FTI measured', 'FTI', 'TBG measured', 'TBG', 'referral source',\n",
      "       'Condition'],\n",
      "      dtype='object')\n"
     ]
    }
   ],
   "source": [
    "# Study each attribute\n",
    "numeric_columns = thyroid_data.select_dtypes(include=['number']).columns\n",
    "categorical_columns = thyroid_data.select_dtypes(include=['object']).columns\n",
    "\n",
    "print(\"Numeric Columns:\", numeric_columns)\n",
    "print()\n",
    "print(\"Categorical Columns:\", categorical_columns)"
   ]
  },
  {
   "cell_type": "code",
   "execution_count": 34,
   "id": "4de8d114-2291-4f7e-b55e-e92fefbe139e",
   "metadata": {},
   "outputs": [
    {
     "name": "stdout",
     "output_type": "stream",
     "text": [
      "          Record ID           age          TSH           T3          TT4  \\\n",
      "count  9.172000e+03   9172.000000  8330.000000  6568.000000  8730.000000   \n",
      "mean   8.529473e+08     73.555822     5.218403     1.970629   108.700305   \n",
      "std    7.581969e+06   1183.976718    24.184006     0.887579    37.522670   \n",
      "min    8.408010e+08      1.000000     0.005000     0.050000     2.000000   \n",
      "25%    8.504090e+08     37.000000     0.460000     1.500000    87.000000   \n",
      "50%    8.510040e+08     55.000000     1.400000     1.900000   104.000000   \n",
      "75%    8.607110e+08     68.000000     2.700000     2.300000   126.000000   \n",
      "max    8.701190e+08  65526.000000   530.000000    18.000000   600.000000   \n",
      "\n",
      "               T4U          FTI         TBG  \n",
      "count  8363.000000  8370.000000  349.000000  \n",
      "mean      0.976056   113.640746   29.870057  \n",
      "std       0.200360    41.551650   21.080504  \n",
      "min       0.170000     1.400000    0.100000  \n",
      "25%       0.860000    93.000000   21.000000  \n",
      "50%       0.960000   109.000000   26.000000  \n",
      "75%       1.065000   128.000000   31.000000  \n",
      "max       2.330000   881.000000  200.000000  \n"
     ]
    }
   ],
   "source": [
    "thyroid_data.replace(\"?\",np.nan,inplace = True)\n",
    "\n",
    "# Study data range for numeric variables\n",
    "print(thyroid_data.describe())"
   ]
  },
  {
   "cell_type": "code",
   "execution_count": 35,
   "id": "488c01a6-6cfd-4aaf-a4b7-ce3f8cd6c463",
   "metadata": {},
   "outputs": [
    {
     "name": "stdout",
     "output_type": "stream",
     "text": [
      "Record ID                       0\n",
      "age                             0\n",
      "sex                           307\n",
      "on thyroxine                    0\n",
      "query on thyroxine              0\n",
      "on antithyroid medication       0\n",
      "sick                            0\n",
      "pregnant                        0\n",
      "thyroid surgery                 0\n",
      "I131 treatment                  0\n",
      "query hypothyroid               0\n",
      "query hyperthyroid              0\n",
      "lithium                         0\n",
      "goitre                          0\n",
      "tumor                           0\n",
      "hypopituitary                   0\n",
      "psych                           0\n",
      "TSH measured                    0\n",
      "TSH                           842\n",
      "T3 measured                     0\n",
      "T3                           2604\n",
      "TT4 measured                    0\n",
      "TT4                           442\n",
      "T4U measured                    0\n",
      "T4U                           809\n",
      "FTI measured                    0\n",
      "FTI                           802\n",
      "TBG measured                    0\n",
      "TBG                          8823\n",
      "referral source                 0\n",
      "Condition                       0\n",
      "dtype: int64\n"
     ]
    }
   ],
   "source": [
    "# Study presence of missing values\n",
    "missing_values = thyroid_data.isnull().sum()\n",
    "print(missing_values)"
   ]
  },
  {
   "cell_type": "code",
   "execution_count": 38,
   "id": "379f58e7-d864-4de0-8347-d3c5497a0486",
   "metadata": {},
   "outputs": [
    {
     "data": {
      "image/png": "[encoded data removed]",
      "text/plain": [
       "<Figure size 640x480 with 1 Axes>"
      ]
     },
     "metadata": {},
     "output_type": "display_data"
    },
    {
     "data": {
      "image/png": "[encoded data removed]",
      "text/plain": [
       "<Figure size 640x480 with 1 Axes>"
      ]
     },
     "metadata": {},
     "output_type": "display_data"
    },
    {
     "data": {
      "image/png": "[encoded data removed]",
      "text/plain": [
       "<Figure size 640x480 with 1 Axes>"
      ]
     },
     "metadata": {},
     "output_type": "display_data"
    },
    {
     "data": {
      "image/png": "[encoded data removed]",
      "text/plain": [
       "<Figure size 640x480 with 1 Axes>"
      ]
     },
     "metadata": {},
     "output_type": "display_data"
    },
    {
     "data": {
      "image/png": "[encoded data removed]",
      "text/plain": [
       "<Figure size 640x480 with 1 Axes>"
      ]
     },
     "metadata": {},
     "output_type": "display_data"
    },
    {
     "data": {
      "image/png": "[encoded data removed]",
      "text/plain": [
       "<Figure size 640x480 with 1 Axes>"
      ]
     },
     "metadata": {},
     "output_type": "display_data"
    },
    {
     "data": {
      "image/png": "[encoded data removed]",
      "text/plain": [
       "<Figure size 640x480 with 1 Axes>"
      ]
     },
     "metadata": {},
     "output_type": "display_data"
    },
    {
     "data": {
      "image/png": "[encoded data removed]",
      "text/plain": [
       "<Figure size 640x480 with 1 Axes>"
      ]
     },
     "metadata": {},
     "output_type": "display_data"
    }
   ],
   "source": [
    "# Study presence of outliers\n",
    "import seaborn as sns\n",
    "\n",
    "# Get the numerical columns\n",
    "numeric_columns = thyroid_data.select_dtypes(include=['float64', 'int64']).columns\n",
    "\n",
    "# Iterate through each column and create a box plot with title\n",
    "for column in numeric_columns:\n",
    "  sns.boxplot(\n",
    "      x = column,  # Set the column name as the x-axis variable\n",
    "      showmeans=True,  # Display the mean value on the box plot\n",
    "      data=thyroid_data\n",
    "  )\n",
    "  plt.title(f\"Distribution of {column}\")  # Add title with column name\n",
    "  plt.show()"
   ]
  },
  {
   "cell_type": "code",
   "execution_count": 40,
   "id": "70b8afc5-3a8a-4a41-8b5e-74115438fad7",
   "metadata": {},
   "outputs": [
    {
     "name": "stdout",
     "output_type": "stream",
     "text": [
      "Mean values:\n",
      " Record ID    8.529473e+08\n",
      "age          7.355582e+01\n",
      "TSH          5.218403e+00\n",
      "T3           1.970629e+00\n",
      "TT4          1.087003e+02\n",
      "T4U          9.760557e-01\n",
      "FTI          1.136407e+02\n",
      "TBG          2.987006e+01\n",
      "dtype: float64\n",
      "Variance values:\n",
      " Record ID    5.748625e+13\n",
      "age          1.401801e+06\n",
      "TSH          5.848662e+02\n",
      "T3           7.877962e-01\n",
      "TT4          1.407951e+03\n",
      "T4U          4.014431e-02\n",
      "FTI          1.726540e+03\n",
      "TBG          4.443876e+02\n",
      "dtype: float64\n"
     ]
    }
   ],
   "source": [
    "\n",
    "# Calculate mean and variance\n",
    "mean_values = thyroid_data[numeric_columns].mean()\n",
    "variance_values = thyroid_data[numeric_columns].var()\n",
    "\n",
    "print(\"Mean values:\\n\", mean_values)\n",
    "print(\"Variance values:\\n\", variance_values)"
   ]
  },
  {
   "cell_type": "code",
   "execution_count": null,
   "id": "7757d79b-550d-47be-8d98-12391bfe06d0",
   "metadata": {},
   "outputs": [],
   "source": []
  },
  {
   "cell_type": "code",
   "execution_count": null,
   "id": "3266732c-c463-4746-8890-93c6a7e92659",
   "metadata": {},
   "outputs": [],
   "source": []
  }
 ],
 "metadata": {
  "kernelspec": {
   "display_name": "Python 3 (ipykernel)",
   "language": "python",
   "name": "python3"
  },
  "language_info": {
   "codemirror_mode": {
    "name": "ipython",
    "version": 3
   },
   "file_extension": ".py",
   "mimetype": "text/x-python",
   "name": "python",
   "nbconvert_exporter": "python",
   "pygments_lexer": "ipython3",
   "version": "3.11.7"
  }
 },
 "nbformat": 4,
 "nbformat_minor": 5
}
