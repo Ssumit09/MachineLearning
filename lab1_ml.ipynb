{
 "cells": [
  {
   "cell_type": "code",
   "execution_count": 1,
   "id": "6976c5f7",
   "metadata": {},
   "outputs": [
    {
     "name": "stdout",
     "output_type": "stream",
     "text": [
      "The total number of pairs are  4\n"
     ]
    }
   ],
   "source": [
    "#  Consider the given list as [2, 7, 4, 1, 3, 6]. Write a program to count pairs of elements with \n",
    "# sum equal to 10.\n",
    "\n",
    "def calculateSum(arr,target):\n",
    "  count=0\n",
    "  for i in arr:\n",
    "    num = target - i\n",
    "    if num in arr and num != i:\n",
    "      count+=1\n",
    "  return count\n",
    "\n",
    "\n",
    "arr = [2,7,4,1,3,6]\n",
    "target = 10\n",
    "pair = calculateSum(arr, target)\n",
    "print(\"The total number of pairs are \",pair )\n"
   ]
  },
  {
   "cell_type": "code",
   "execution_count": 2,
   "id": "149b095a",
   "metadata": {},
   "outputs": [
    {
     "name": "stdout",
     "output_type": "stream",
     "text": [
      "Enter the size of the list 6\n",
      "Enter element 1: 5\n",
      "Enter element 2: 3\n",
      "Enter element 3: 8\n",
      "Enter element 4: 1\n",
      "Enter element 5: 0\n",
      "Enter element 6: 4\n",
      "The range of the list is  8\n"
     ]
    }
   ],
   "source": [
    "# Write a program that takes a list of real numbers as input and returns the range (difference \n",
    "# between minimum and maximum) of the list. Check for list being less than 3 elements in \n",
    "# which case return an error message (Ex: “Range determination not possible”). Given a list\n",
    "# [5,3,8,1,0,4], the range is 8 (8-0)\n",
    "def difference(arr):\n",
    "  if (len(arr) <=  3 ):\n",
    "    return -1\n",
    "  # maximum = max(arr)\n",
    "  # return max(arr) - min(arr)\n",
    "  maximum = max(arr)\n",
    "  minimum = min(arr)\n",
    "  return (int(maximum) - int(minimum))\n",
    "\n",
    "list_size = int(input(\"Enter the size of the list \"))\n",
    "arr = []\n",
    "\n",
    "for i in range(list_size):\n",
    "  element = input(f\"Enter element {i+1}: \")\n",
    "  arr.append(element)\n",
    "\n",
    "range1 = difference(arr)\n",
    "if range1 <= 0:\n",
    "  print(\"Range determination not possible\")\n",
    "else:\n",
    "  print(\"The range of the list is \", range1)"
   ]
  },
  {
   "cell_type": "code",
   "execution_count": 4,
   "id": "aebf892f",
   "metadata": {},
   "outputs": [
    {
     "name": "stdout",
     "output_type": "stream",
     "text": [
      "[46, 55]\n",
      "[66, 79]\n"
     ]
    }
   ],
   "source": [
    "# write a program that accepts a square matrix A and a positive integer m as arguments and \n",
    "# returns Am\n",
    "def matrix_multiply(A, B):\n",
    "    n = len(A)\n",
    "    C = [[0] * n for _ in range(n)]\n",
    "    for i in range(n):\n",
    "        for j in range(n):\n",
    "            for k in range(n):\n",
    "                C[i][j] += A[i][k] * B[k][j]\n",
    "    return C\n",
    "\n",
    "def matrix_power(A, m):\n",
    "    n = len(A)\n",
    "\n",
    "    result = [[1 if i == j else 0 for j in range(n)] for i in range(n)]\n",
    "\n",
    "    base = A\n",
    "\n",
    "    while m > 0:\n",
    "        if m % 2 == 1:\n",
    "            result = matrix_multiply(result, base)\n",
    "        base = matrix_multiply(base, base)\n",
    "        m //= 2\n",
    "\n",
    "    return result\n",
    "\n",
    "A = [[4, 5],\n",
    "     [6, 7]]\n",
    "m = 2\n",
    "\n",
    "result = matrix_power(A, m)\n",
    "for row in result:\n",
    "    print(row)"
   ]
  },
  {
   "cell_type": "code",
   "execution_count": 6,
   "id": "d085473b",
   "metadata": {},
   "outputs": [
    {
     "name": "stdout",
     "output_type": "stream",
     "text": [
      "Enter a string: hippopotamus\n",
      "The character with the maximum occurrence  is ['p'] having occurence count is 3 times.\n"
     ]
    }
   ],
   "source": [
    "# write a program to count the highest occurring character & its occurrence count in an input\n",
    "# string. Consider only alphabets. Ex: for “hippopotamus” as input string, the maximally \n",
    "# occurring character is ‘p’ & occurrence count is 3.\n",
    "\n",
    "def highest_occurrence_char(s):\n",
    "    char_count = {}\n",
    "    for char in s:\n",
    "        if char != ' ':\n",
    "            char_count[char] = char_count.get(char, 0) + 1\n",
    "\n",
    "    max_count = max(char_count.values())\n",
    "    max_char = [char for char, count in char_count.items() if count == max_count]\n",
    "\n",
    "    print(\"The character with the maximum occurrence  is\", max_char, \"having occurence count is\", max_count, \"times.\")\n",
    "\n",
    "s = input(\"Enter a string: \")\n",
    "highest_occurrence_char(s)\n",
    "\n"
   ]
  },
  {
   "cell_type": "code",
   "execution_count": null,
   "id": "0fc9c4b4",
   "metadata": {},
   "outputs": [],
   "source": []
  }
 ],
 "metadata": {
  "kernelspec": {
   "display_name": "Python 3 (ipykernel)",
   "language": "python",
   "name": "python3"
  },
  "language_info": {
   "codemirror_mode": {
    "name": "ipython",
    "version": 3
   },
   "file_extension": ".py",
   "mimetype": "text/x-python",
   "name": "python",
   "nbconvert_exporter": "python",
   "pygments_lexer": "ipython3",
   "version": "3.9.13"
  }
 },
 "nbformat": 4,
 "nbformat_minor": 5
}
