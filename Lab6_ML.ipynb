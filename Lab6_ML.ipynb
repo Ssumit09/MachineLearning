{
 "cells": [
  {
   "cell_type": "code",
   "execution_count": 1,
   "metadata": {
    "id": "VDLlXBdv8CGz"
   },
   "outputs": [],
   "source": [
    "import numpy as np\n",
    "import pandas as pd\n",
    "from sklearn.feature_extraction.text import TfidfVectorizer\n"
   ]
  },
  {
   "cell_type": "code",
   "execution_count": 5,
   "metadata": {
    "colab": {
     "base_uri": "https://localhost:8080/",
     "height": 423
    },
    "id": "xot2nftLSraA",
    "outputId": "bb00837f-426a-4733-d43c-9b88557fbe59"
   },
   "outputs": [
    {
     "data": {
      "text/html": [
       "<div>\n",
       "<style scoped>\n",
       "    .dataframe tbody tr th:only-of-type {\n",
       "        vertical-align: middle;\n",
       "    }\n",
       "\n",
       "    .dataframe tbody tr th {\n",
       "        vertical-align: top;\n",
       "    }\n",
       "\n",
       "    .dataframe thead th {\n",
       "        text-align: right;\n",
       "    }\n",
       "</style>\n",
       "<table border=\"1\" class=\"dataframe\">\n",
       "  <thead>\n",
       "    <tr style=\"text-align: right;\">\n",
       "      <th></th>\n",
       "      <th>Question</th>\n",
       "      <th>Answer</th>\n",
       "      <th>Strength_N</th>\n",
       "      <th>Strength</th>\n",
       "    </tr>\n",
       "  </thead>\n",
       "  <tbody>\n",
       "    <tr>\n",
       "      <th>0</th>\n",
       "      <td>In what scenario should I use mean and where s...</td>\n",
       "      <td>Mean is used to calculate the average.</td>\n",
       "      <td>-1</td>\n",
       "      <td>Low</td>\n",
       "    </tr>\n",
       "    <tr>\n",
       "      <th>1</th>\n",
       "      <td>What is covariance and what is correlation?</td>\n",
       "      <td>Correlation measures the strength and directio...</td>\n",
       "      <td>1</td>\n",
       "      <td>High</td>\n",
       "    </tr>\n",
       "    <tr>\n",
       "      <th>2</th>\n",
       "      <td>What does a correlation of 0 versus a correlat...</td>\n",
       "      <td>The respondent did not provide an explanation ...</td>\n",
       "      <td>-1</td>\n",
       "      <td>Low</td>\n",
       "    </tr>\n",
       "    <tr>\n",
       "      <th>3</th>\n",
       "      <td>Can you name 1 classifier which is probabilist...</td>\n",
       "      <td>Naive Bayes is a probabilistic classifier.</td>\n",
       "      <td>1</td>\n",
       "      <td>High</td>\n",
       "    </tr>\n",
       "    <tr>\n",
       "      <th>4</th>\n",
       "      <td>How would you go about designing a speech reco...</td>\n",
       "      <td>Collect a dataset, extract features, and selec...</td>\n",
       "      <td>0</td>\n",
       "      <td>Medium</td>\n",
       "    </tr>\n",
       "    <tr>\n",
       "      <th>...</th>\n",
       "      <td>...</td>\n",
       "      <td>...</td>\n",
       "      <td>...</td>\n",
       "      <td>...</td>\n",
       "    </tr>\n",
       "    <tr>\n",
       "      <th>239</th>\n",
       "      <td>What is the order of sequence in which this sh...</td>\n",
       "      <td>First, define the function using the def keywo...</td>\n",
       "      <td>1</td>\n",
       "      <td>High</td>\n",
       "    </tr>\n",
       "    <tr>\n",
       "      <th>240</th>\n",
       "      <td>Thank you very much.</td>\n",
       "      <td>Thank you, Sir.</td>\n",
       "      <td>-1</td>\n",
       "      <td>Low</td>\n",
       "    </tr>\n",
       "    <tr>\n",
       "      <th>241</th>\n",
       "      <td>Were you tense?</td>\n",
       "      <td>Sir.</td>\n",
       "      <td>-1</td>\n",
       "      <td>Low</td>\n",
       "    </tr>\n",
       "    <tr>\n",
       "      <th>242</th>\n",
       "      <td>Where do tensed?</td>\n",
       "      <td>No, Sir. Actually, the network issue and my ea...</td>\n",
       "      <td>-1</td>\n",
       "      <td>Low</td>\n",
       "    </tr>\n",
       "    <tr>\n",
       "      <th>243</th>\n",
       "      <td>Thank you very much and good night.</td>\n",
       "      <td>Sorry. Thank you. Thank you, Sir.</td>\n",
       "      <td>-1</td>\n",
       "      <td>Low</td>\n",
       "    </tr>\n",
       "  </tbody>\n",
       "</table>\n",
       "<p>244 rows × 4 columns</p>\n",
       "</div>"
      ],
      "text/plain": [
       "                                              Question  \\\n",
       "0    In what scenario should I use mean and where s...   \n",
       "1          What is covariance and what is correlation?   \n",
       "2    What does a correlation of 0 versus a correlat...   \n",
       "3    Can you name 1 classifier which is probabilist...   \n",
       "4    How would you go about designing a speech reco...   \n",
       "..                                                 ...   \n",
       "239  What is the order of sequence in which this sh...   \n",
       "240                               Thank you very much.   \n",
       "241                                    Were you tense?   \n",
       "242                                   Where do tensed?   \n",
       "243                Thank you very much and good night.   \n",
       "\n",
       "                                                Answer  Strength_N Strength  \n",
       "0              Mean is used to calculate the average.           -1      Low  \n",
       "1    Correlation measures the strength and directio...           1     High  \n",
       "2    The respondent did not provide an explanation ...          -1      Low  \n",
       "3           Naive Bayes is a probabilistic classifier.           1     High  \n",
       "4    Collect a dataset, extract features, and selec...           0   Medium  \n",
       "..                                                 ...         ...      ...  \n",
       "239  First, define the function using the def keywo...           1     High  \n",
       "240                                    Thank you, Sir.          -1      Low  \n",
       "241                                               Sir.          -1      Low  \n",
       "242  No, Sir. Actually, the network issue and my ea...          -1      Low  \n",
       "243                  Sorry. Thank you. Thank you, Sir.          -1      Low  \n",
       "\n",
       "[244 rows x 4 columns]"
      ]
     },
     "execution_count": 5,
     "metadata": {},
     "output_type": "execute_result"
    }
   ],
   "source": [
    "df = pd.read_excel('Audio_data.xlsx')\n",
    "df"
   ]
  },
  {
   "cell_type": "code",
   "execution_count": 9,
   "metadata": {
    "colab": {
     "base_uri": "https://localhost:8080/",
     "height": 458
    },
    "id": "BEdVDHr9SwXA",
    "outputId": "d3e55d5d-0c42-4221-cfe5-229194bb6d6b"
   },
   "outputs": [
    {
     "data": {
      "text/plain": [
       "0                Mean is used to calculate the average. \n",
       "1      Correlation measures the strength and directio...\n",
       "2      The respondent did not provide an explanation ...\n",
       "3             Naive Bayes is a probabilistic classifier.\n",
       "4      Collect a dataset, extract features, and selec...\n",
       "                             ...                        \n",
       "239    First, define the function using the def keywo...\n",
       "240                                      Thank you, Sir.\n",
       "241                                                 Sir.\n",
       "242    No, Sir. Actually, the network issue and my ea...\n",
       "243                    Sorry. Thank you. Thank you, Sir.\n",
       "Name: Answer, Length: 244, dtype: object"
      ]
     },
     "execution_count": 9,
     "metadata": {},
     "output_type": "execute_result"
    }
   ],
   "source": [
    "text_data = df['Answer']\n",
    "text_data"
   ]
  },
  {
   "cell_type": "code",
   "execution_count": 10,
   "metadata": {
    "colab": {
     "base_uri": "https://localhost:8080/"
    },
    "id": "KiKJx5PHTULL",
    "outputId": "e0d91fbf-4359-4c95-a8f3-49c3bb5ce3bb"
   },
   "outputs": [
    {
     "name": "stdout",
     "output_type": "stream",
     "text": [
      "   000   10   1d  1d2d   2d   3d  3rd  3x3  6x6  able  ...  words  working  \\\n",
      "0  0.0  0.0  0.0   0.0  0.0  0.0  0.0  0.0  0.0   0.0  ...    0.0      0.0   \n",
      "1  0.0  0.0  0.0   0.0  0.0  0.0  0.0  0.0  0.0   0.0  ...    0.0      0.0   \n",
      "2  0.0  0.0  0.0   0.0  0.0  0.0  0.0  0.0  0.0   0.0  ...    0.0      0.0   \n",
      "3  0.0  0.0  0.0   0.0  0.0  0.0  0.0  0.0  0.0   0.0  ...    0.0      0.0   \n",
      "4  0.0  0.0  0.0   0.0  0.0  0.0  0.0  0.0  0.0   0.0  ...    0.0      0.0   \n",
      "\n",
      "   works  would  yeah  yes  you  your      zero  zeros  \n",
      "0    0.0    0.0   0.0  0.0  0.0   0.0  0.000000    0.0  \n",
      "1    0.0    0.0   0.0  0.0  0.0   0.0  0.148378    0.0  \n",
      "2    0.0    0.0   0.0  0.0  0.0   0.0  0.000000    0.0  \n",
      "3    0.0    0.0   0.0  0.0  0.0   0.0  0.000000    0.0  \n",
      "4    0.0    0.0   0.0  0.0  0.0   0.0  0.000000    0.0  \n",
      "\n",
      "[5 rows x 868 columns]\n"
     ]
    }
   ],
   "source": [
    "# Initialize TF-IDF vectorizer\n",
    "vectorizer = TfidfVectorizer()\n",
    "\n",
    "# Fit and transform the text data into TF-IDF features\n",
    "tfidf_matrix = vectorizer.fit_transform(text_data)\n",
    "\n",
    "# Convert the TF-IDF matrix to a DataFrame for easier viewing (optional)\n",
    "tfidf_df = pd.DataFrame(tfidf_matrix.toarray(), columns=vectorizer.get_feature_names_out())\n",
    "\n",
    "# Display the first few rows of the TF-IDF DataFrame\n",
    "print(tfidf_df.head())"
   ]
  },
  {
   "cell_type": "code",
   "execution_count": 11,
   "metadata": {
    "id": "MVoxeburTdf9"
   },
   "outputs": [],
   "source": [
    "a = tfidf_df['zero'].to_numpy()\n",
    "b = df['Strength_N'].to_numpy()\n",
    "\n",
    "a = np.array(a)\n",
    "b = np.array(b)"
   ]
  },
  {
   "cell_type": "code",
   "execution_count": 12,
   "metadata": {
    "id": "VPVR0hRbUGcL"
   },
   "outputs": [],
   "source": [
    "def summation_unit(inputs, weights, bias=0):\n",
    "    \"\"\"\n",
    "    Compute the weighted sum of the inputs.\n",
    "\n",
    "    Parameters:\n",
    "    - inputs: list or array of input values.\n",
    "    - weights: list or array of weights corresponding to the inputs.\n",
    "    - bias: optional bias term (default is 0).\n",
    "\n",
    "    Returns:\n",
    "    - Weighted sum (scalar).\n",
    "    \"\"\"\n",
    "    return sum(i * w for i, w in zip(inputs, weights)) + bias\n",
    "\n",
    "x = summation_unit(a, b)\n"
   ]
  },
  {
   "cell_type": "code",
   "execution_count": 15,
   "metadata": {
    "colab": {
     "base_uri": "https://localhost:8080/"
    },
    "id": "b1WVSnljVBnh",
    "outputId": "b9dfe6f0-9a66-4438-f368-dac3613b0f90"
   },
   "outputs": [
    {
     "name": "stdout",
     "output_type": "stream",
     "text": [
      "Step Activation: 1\n",
      "Bipolar Step Activation: 1\n",
      "Sigmoid Activation: 0.6187763068757086\n",
      "TanH Activation: 0.44972659609058085\n",
      "ReLU Activation: 0.48435750524217913\n",
      "Leaky ReLU Activation: 0.48435750524217913\n"
     ]
    }
   ],
   "source": [
    "import math\n",
    "\n",
    "# Step function\n",
    "def step_activation(x):\n",
    "    return 1 if x >= 0 else 0\n",
    "\n",
    "# Bipolar Step function\n",
    "def bipolar_step_activation(x):\n",
    "    return 1 if x >= 0 else -1\n",
    "\n",
    "# Sigmoid function\n",
    "def sigmoid_activation(x):\n",
    "    return 1 / (1 + math.exp(-x))\n",
    "\n",
    "# TanH function\n",
    "def tanh_activation(x):\n",
    "    return math.tanh(x)\n",
    "\n",
    "# ReLU (Rectified Linear Unit) function\n",
    "def relu_activation(x):\n",
    "    return max(0, x)\n",
    "\n",
    "# Leaky ReLU function\n",
    "def leaky_relu_activation(x, alpha=0.01):\n",
    "    return x if x >= 0 else alpha * x\n",
    "\n",
    "\n",
    "step_result = step_activation(x)\n",
    "bipolar_step_result = bipolar_step_activation(x)\n",
    "sigmoid_result = sigmoid_activation(x)\n",
    "tanh_result = tanh_activation(x)\n",
    "relu_result = relu_activation(x)\n",
    "leaky_relu_result = leaky_relu_activation(x)\n",
    "\n",
    "# Print results of activation functions\n",
    "print(f\"Step Activation: {step_result}\")\n",
    "print(f\"Bipolar Step Activation: {bipolar_step_result}\")\n",
    "print(f\"Sigmoid Activation: {sigmoid_result}\")\n",
    "print(f\"TanH Activation: {tanh_result}\")\n",
    "print(f\"ReLU Activation: {relu_result}\")\n",
    "print(f\"Leaky ReLU Activation: {leaky_relu_result}\")\n"
   ]
  },
  {
   "cell_type": "code",
   "execution_count": 16,
   "metadata": {
    "id": "AsRVD6L6VvZE"
   },
   "outputs": [
    {
     "name": "stdout",
     "output_type": "stream",
     "text": [
      "Mean Squared Error: 0.6451427462262322\n",
      "Absolute Error: 0.6483405729791706\n"
     ]
    }
   ],
   "source": [
    "def mean_squared_error(targets, predictions):\n",
    "    return sum((t - p) ** 2 for t, p in zip(targets, predictions)) / len(targets)\n",
    "\n",
    "# Absolute Error (AE)\n",
    "def absolute_error(targets, predictions):\n",
    "    return sum(abs(t - p) for t, p in zip(targets, predictions)) / len(targets)\n",
    "\n",
    "targets = b  # actual Strength_N values\n",
    "predictions = a  # hypothetical predictions\n",
    "\n",
    "# Calculate Mean Squared Error\n",
    "mse = mean_squared_error(targets, predictions)\n",
    "print(f\"Mean Squared Error: {mse}\")\n",
    "\n",
    "# Calculate Absolute Error\n",
    "ae = absolute_error(targets, predictions)\n",
    "print(f\"Absolute Error: {ae}\")\n"
   ]
  },
  {
   "cell_type": "code",
   "execution_count": 25,
   "metadata": {
    "colab": {
     "base_uri": "https://localhost:8080/"
    },
    "id": "LloZKxT0WNxZ",
    "outputId": "067da8fe-dbca-4624-c523-534354a11ada"
   },
   "outputs": [
    {
     "name": "stdout",
     "output_type": "stream",
     "text": [
      "Prediction for first test input: 0\n"
     ]
    }
   ],
   "source": [
    "import numpy as np\n",
    "\n",
    "# Define the Perceptron class\n",
    "class Perceptron:\n",
    "    def __init__(self, input_size, learning_rate=0.05):\n",
    "        self.weights = np.random.uniform(low=-1, high=1, size=(input_size + 1))  # Random initialization\n",
    "        self.learning_rate = learning_rate\n",
    "        self.bias = self.weights[0]  # Bias is the weight W0\n",
    "\n",
    "    def activation_function(self, x):\n",
    "        # Multi-class activation based on threshold for 3 classes (-1, 0, 1)\n",
    "        if x < -0.5:\n",
    "            return -1\n",
    "        elif x >= -0.5 and x < 0.5:\n",
    "            return 0\n",
    "        else:\n",
    "            return 1\n",
    "\n",
    "    def predict(self, inputs):\n",
    "        # Compute the weighted sum (dot product) + bias\n",
    "        weighted_sum = np.dot(inputs, self.weights[1:]) + self.bias\n",
    "        return self.activation_function(weighted_sum)\n",
    "\n",
    "    def update_weights(self, inputs, error):\n",
    "        # Update weights and bias based on error\n",
    "        self.weights[1:] += self.learning_rate * error * inputs\n",
    "        self.bias += self.learning_rate * error\n",
    "\n",
    "    def train(self, training_inputs, labels, epochs):\n",
    "        for _ in range(epochs):\n",
    "            for inputs, label in zip(training_inputs, labels):\n",
    "                prediction = self.predict(inputs)\n",
    "                error = label - prediction\n",
    "                self.update_weights(inputs, error)\n",
    "\n",
    "# Define training data (example inputs from your dataset)\n",
    "# Assume 'tfidf_matrix' is the input matrix, and 'Strength_N' contains the labels\n",
    "\n",
    "training_inputs = tfidf_matrix.toarray()  # Convert to numpy array from sparse matrix\n",
    "labels = df['Strength_N'].to_numpy()      # Use Strength_N column for labels\n",
    "\n",
    "# Initialize and train the perceptron\n",
    "input_size = training_inputs.shape[1]  # Number of features from TF-IDF\n",
    "perceptron = Perceptron(input_size=input_size, learning_rate=0.01)\n",
    "\n",
    "# Train for more epochs since you have a larger dataset\n",
    "epochs = 100\n",
    "perceptron.train(training_inputs, labels, epochs)\n",
    "\n",
    "# Test the perceptron with a sample input from the dataset\n",
    "test_input = training_inputs[0]\n",
    "print(\"Prediction for first test input:\", perceptron.predict(test_input))\n"
   ]
  },
  {
   "cell_type": "code",
   "execution_count": 24,
   "metadata": {},
   "outputs": [
    {
     "name": "stdout",
     "output_type": "stream",
     "text": [
      "Strength_N\n",
      "-1    108\n",
      " 0     86\n",
      " 1     50\n",
      "Name: count, dtype: int64\n"
     ]
    }
   ],
   "source": [
    "print(df['Strength_N'].value_counts())\n",
    "\n",
    "# print(np.unique(labels, return_counts=True))"
   ]
  },
  {
   "cell_type": "code",
   "execution_count": 26,
   "metadata": {
    "colab": {
     "base_uri": "https://localhost:8080/",
     "height": 489
    },
    "id": "wRSe99OAWeZP",
    "outputId": "8c65d6cb-b254-4abc-bc06-360bd43dcc77"
   },
   "outputs": [
    {
     "data": {
      "image/png": "[encoded data removed]",
      "text/plain": [
       "<Figure size 640x480 with 1 Axes>"
      ]
     },
     "metadata": {},
     "output_type": "display_data"
    }
   ],
   "source": [
    "import numpy as np\n",
    "import pandas as pd\n",
    "import matplotlib.pyplot as plt\n",
    "from sklearn.feature_extraction.text import TfidfVectorizer\n",
    "from sklearn.preprocessing import StandardScaler\n",
    "\n",
    "# Load your dataset\n",
    "df = pd.read_excel('Audio_data.xlsx')\n",
    "\n",
    "# Assume 'Transcript' contains your text data and 'Strength_N' is the target label\n",
    "text_data = df['Answer']\n",
    "labels = df['Strength_N'].values\n",
    "\n",
    "# Vectorize the text data using TF-IDF\n",
    "vectorizer = TfidfVectorizer()\n",
    "tfidf_matrix = vectorizer.fit_transform(text_data)\n",
    "\n",
    "# Convert the TF-IDF matrix to a NumPy array\n",
    "training_inputs = tfidf_matrix.toarray()\n",
    "\n",
    "# Define the Perceptron class\n",
    "class Perceptron:\n",
    "    def __init__(self, input_size, learning_rate=0.05):\n",
    "        # Initialize weights and learning rate\n",
    "        self.weights = np.random.rand(input_size + 1)  # +1 for bias weight\n",
    "        self.learning_rate = learning_rate\n",
    "\n",
    "    def step_function(self, x):\n",
    "        return 1 if x >= 0 else 0\n",
    "\n",
    "    def predict(self, inputs):\n",
    "        # Compute the weighted sum\n",
    "        weighted_sum = np.dot(inputs, self.weights[1:]) + self.weights[0]\n",
    "        return self.step_function(weighted_sum)\n",
    "\n",
    "    def update_weights(self, inputs, error):\n",
    "        # Update weights and bias based on error\n",
    "        self.weights[1:] += self.learning_rate * error * inputs\n",
    "        self.weights[0] += self.learning_rate * error  # Update bias\n",
    "\n",
    "    def train(self, training_inputs, labels, max_epochs=1000, convergence_threshold=0.002):\n",
    "        epoch_errors = []\n",
    "        for epoch in range(max_epochs):\n",
    "            total_error = 0\n",
    "            for inputs, label in zip(training_inputs, labels):\n",
    "                prediction = self.predict(inputs)\n",
    "                error = label - prediction\n",
    "                self.update_weights(inputs, error)\n",
    "                total_error += error ** 2\n",
    "            epoch_errors.append(total_error)\n",
    "            if total_error <= convergence_threshold:\n",
    "                print(f\"Converged after {epoch + 1} epochs.\")\n",
    "                break\n",
    "        return epoch_errors\n",
    "\n",
    "# Initialize and train the perceptron\n",
    "input_size = training_inputs.shape[1]  # Number of features\n",
    "perceptron = Perceptron(input_size=input_size)\n",
    "\n",
    "# Train the perceptron\n",
    "epoch_errors = perceptron.train(training_inputs, labels)\n",
    "\n",
    "# Plot error vs. epochs\n",
    "plt.plot(range(len(epoch_errors)), epoch_errors, marker='o')\n",
    "plt.xlabel('Epochs')\n",
    "plt.ylabel('Sum-Square Error')\n",
    "plt.title('Epochs vs. Sum-Square Error')\n",
    "plt.grid(True)\n",
    "plt.show()\n"
   ]
  },
  {
   "cell_type": "code",
   "execution_count": 27,
   "metadata": {
    "colab": {
     "base_uri": "https://localhost:8080/",
     "height": 805
    },
    "id": "DrGTzKoTXAsu",
    "outputId": "5ce27122-c9c6-4b7d-e9d2-bc09f1eba8f4"
   },
   "outputs": [
    {
     "name": "stdout",
     "output_type": "stream",
     "text": [
      "Training with step activation function...\n",
      "step function converged after 131 epochs.\n"
     ]
    },
    {
     "data": {
      "image/png": "[encoded data removed]",
      "text/plain": [
       "<Figure size 1200x800 with 1 Axes>"
      ]
     },
     "metadata": {},
     "output_type": "display_data"
    }
   ],
   "source": [
    "# To repeat the perceptron training experiment with different activation functions, you’ll need to implement the following activation functions:\n",
    "\n",
    "# Bi-Polar Step Function: This function returns 1 if the input is greater than or equal to 0, and -1 otherwise.\n",
    "# Sigmoid Function: The sigmoid function returns values between 0 and 1. The output can be transformed to fit the binary classification by scaling and shifting.\n",
    "# ReLU Function: The ReLU (Rectified Linear Unit) function returns the input if it's greater than 0, and 0 otherwise.\n",
    "\n",
    "import numpy as np\n",
    "import matplotlib.pyplot as plt\n",
    "\n",
    "# Define the Perceptron class\n",
    "class Perceptron:\n",
    "    def __init__(self, input_size, learning_rate=0.05, activation_function='step'):\n",
    "        self.weights = np.array([10] + [0.2, -0.75])  # Initial weights (W0, W1, W2)\n",
    "        self.learning_rate = learning_rate\n",
    "        self.bias = self.weights[0]  # Bias is the weight W0\n",
    "        self.weights = np.insert(self.weights[1:], 0, self.bias)  # Insert bias as the first weight\n",
    "        self.activation_function = activation_function\n",
    "\n",
    "    def activation(self, x):\n",
    "        if self.activation_function == 'step':\n",
    "            return 1 if x >= 0 else 0\n",
    "        else:\n",
    "            raise ValueError(\"Unsupported activation function\")\n",
    "\n",
    "    def predict(self, inputs):\n",
    "        weighted_sum = np.dot(inputs, self.weights[1:]) + self.weights[0]\n",
    "        return self.activation(weighted_sum)\n",
    "\n",
    "    def update_weights(self, inputs, error):\n",
    "        if self.activation_function == 'sigmoid':\n",
    "            # Sigmoid derivative\n",
    "            prediction = self.activation(np.dot(inputs, self.weights[1:]) + self.weights[0])\n",
    "            error *= prediction * (1 - prediction)\n",
    "        elif self.activation_function == 'relu':\n",
    "            # ReLU derivative\n",
    "            prediction = self.activation(np.dot(inputs, self.weights[1:]) + self.weights[0])\n",
    "            error *= 1 if prediction > 0 else 0\n",
    "\n",
    "        self.weights[1:] += self.learning_rate * error * inputs\n",
    "        self.weights[0] += self.learning_rate * error\n",
    "\n",
    "    def train(self, training_inputs, labels, max_epochs=1000, convergence_threshold=0.002):\n",
    "        epoch_errors = []\n",
    "        for epoch in range(max_epochs):\n",
    "            total_error = 0\n",
    "            for inputs, label in zip(training_inputs, labels):\n",
    "                prediction = self.predict(inputs)\n",
    "                error = label - prediction\n",
    "                self.update_weights(inputs, error)\n",
    "                total_error += error ** 2\n",
    "            epoch_errors.append(total_error)\n",
    "            if total_error <= convergence_threshold:\n",
    "                print(f\"{self.activation_function} function converged after {epoch + 1} epochs.\")\n",
    "                break\n",
    "        return epoch_errors\n",
    "\n",
    "# Define training data for AND gate\n",
    "training_inputs = np.array([\n",
    "    [1, 0],\n",
    "    [1, 1],\n",
    "    [0, 1],\n",
    "    [0, 0]\n",
    "])\n",
    "\n",
    "# Define labels for AND gate\n",
    "labels = np.array([0, 1, 0, 0])\n",
    "\n",
    "# Initialize and train perceptrons with different activation functions\n",
    "activation_functions = ['step']\n",
    "errors = {}\n",
    "\n",
    "for func in activation_functions:\n",
    "    print(f\"Training with {func} activation function...\")\n",
    "    perceptron = Perceptron(input_size=2, activation_function=func)\n",
    "    epoch_errors = perceptron.train(training_inputs, labels)\n",
    "    errors[func] = epoch_errors\n",
    "\n",
    "# Plot error vs. epochs for each activation function\n",
    "plt.figure(figsize=(12, 8))\n",
    "for func, epoch_errors in errors.items():\n",
    "    plt.plot(range(len(epoch_errors)), epoch_errors, marker='o', label=f'{func} activation')\n",
    "plt.xlabel('Epochs')\n",
    "plt.ylabel('Sum-Square Error')\n",
    "plt.title('Epochs vs. Sum-Square Error for Different Activation Functions')\n",
    "plt.legend()\n",
    "plt.grid(True)\n",
    "plt.show()\n"
   ]
  },
  {
   "cell_type": "code",
   "execution_count": 28,
   "metadata": {
    "colab": {
     "base_uri": "https://localhost:8080/"
    },
    "id": "AvmfVy9aXulC",
    "outputId": "81644c65-ed59-407f-d11e-5d3aa95779e1"
   },
   "outputs": [
    {
     "name": "stdout",
     "output_type": "stream",
     "text": [
      "XOR Output (Step Activation): 1\n",
      "Mean Squared Error: 0.0\n"
     ]
    }
   ],
   "source": [
    "def xor_gate(inputs, weights, activation_function):\n",
    "    # Calculate the summation\n",
    "    weighted_sum = summation_unit(inputs, weights)\n",
    "\n",
    "    # Apply the activation function\n",
    "    return activation_function(weighted_sum)\n",
    "\n",
    "# Example weights for XOR (2 input XOR gate with bias term)\n",
    "weights = [0.5, 0.5, -0.7]  # Example weights including bias\n",
    "inputs = [1, 0]  # Example inputs for XOR\n",
    "\n",
    "# Using Step Activation\n",
    "output = xor_gate(inputs, weights, step_activation)\n",
    "print(f\"XOR Output (Step Activation): {output}\")\n",
    "\n",
    "# Example for error calculation\n",
    "predictions = [1, 0, 1, 0]  # Example predictions\n",
    "targets = [1, 0, 1, 0]  # Example targets\n",
    "error = mean_squared_error(predictions, targets)\n",
    "print(f\"Mean Squared Error: {error}\")\n"
   ]
  },
  {
   "cell_type": "code",
   "execution_count": 29,
   "metadata": {
    "colab": {
     "base_uri": "https://localhost:8080/"
    },
    "id": "Sdk3X1nvZ02S",
    "outputId": "e87807d4-b996-4420-a90e-4052985583a3"
   },
   "outputs": [
    {
     "name": "stdout",
     "output_type": "stream",
     "text": [
      "Epoch 0: Loss = 0.6\n",
      "Epoch 100: Loss = 0.6\n",
      "Epoch 200: Loss = 0.39999999998254887\n",
      "Epoch 300: Loss = 0.1999999998813591\n",
      "Epoch 400: Loss = 0.1\n",
      "Epoch 500: Loss = 0.3\n",
      "Epoch 600: Loss = 3.492382207998652e-08\n",
      "Epoch 700: Loss = 3.4734082479528716e-08\n",
      "Epoch 800: Loss = 3.454597479450822e-08\n",
      "Epoch 900: Loss = 3.435947940626133e-08\n",
      "Predictions: [ True  True  True False  True False  True  True False False]\n",
      "Actual Labels: [1 1 1 0 1 0 1 1 0 0]\n"
     ]
    },
    {
     "name": "stderr",
     "output_type": "stream",
     "text": [
      "C:\\Users\\sumit\\AppData\\Local\\Temp\\ipykernel_12600\\2450989818.py:28: RuntimeWarning: overflow encountered in exp\n",
      "  return 1 / (1 + np.exp(-z))\n"
     ]
    }
   ],
   "source": [
    "import numpy as np\n",
    "\n",
    "# Data\n",
    "X = np.array([[20, 6, 2, 386],\n",
    "              [16, 3, 6, 289],\n",
    "              [27, 6, 2, 393],\n",
    "              [19, 1, 2, 110],\n",
    "              [24, 4, 2, 280],\n",
    "              [22, 1, 5, 167],\n",
    "              [15, 4, 2, 271],\n",
    "              [18, 4, 2, 274],\n",
    "              [21, 1, 4, 148],\n",
    "              [16, 2, 4, 198]])\n",
    "\n",
    "y = np.array([1, 1, 1, 0, 1, 0, 1, 1, 0, 0])\n",
    "\n",
    "# Initialize weights and bias\n",
    "np.random.seed(42)\n",
    "weights = np.random.randn(X.shape[1])\n",
    "bias = np.random.randn()\n",
    "\n",
    "# Hyperparameters\n",
    "learning_rate = 0.01\n",
    "epochs = 1000\n",
    "\n",
    "# Sigmoid function\n",
    "def sigmoid(z):\n",
    "    return 1 / (1 + np.exp(-z))\n",
    "\n",
    "# Training the perceptron\n",
    "for epoch in range(epochs):\n",
    "    for i in range(X.shape[0]):\n",
    "        # Forward pass\n",
    "        linear_output = np.dot(X[i], weights) + bias\n",
    "        prediction = sigmoid(linear_output)\n",
    "\n",
    "        # Compute error\n",
    "        error = y[i] - prediction\n",
    "\n",
    "        # Update weights and bias\n",
    "        weights += learning_rate * error * X[i]\n",
    "        bias += learning_rate * error\n",
    "\n",
    "    if epoch % 100 == 0:\n",
    "        print(f'Epoch {epoch}: Loss = {np.mean((y - sigmoid(np.dot(X, weights) + bias))**2)}')\n",
    "\n",
    "# Make predictions\n",
    "def predict(X):\n",
    "    linear_output = np.dot(X, weights) + bias\n",
    "    return sigmoid(linear_output) > 0.5\n",
    "\n",
    "# Testing the model\n",
    "predictions = predict(X)\n",
    "print(\"Predictions:\", predictions)\n",
    "print(\"Actual Labels:\", y)\n"
   ]
  },
  {
   "cell_type": "code",
   "execution_count": null,
   "metadata": {
    "id": "tHj5BXRDcCas"
   },
   "outputs": [],
   "source": []
  }
 ],
 "metadata": {
  "colab": {
   "authorship_tag": "ABX9TyPUUnk2Fc+vL2hHENLRvqIk",
   "include_colab_link": true,
   "mount_file_id": "1sIgsDald-UAQYLVERo8rIsAWXPPAa1ii",
   "provenance": []
  },
  "kernelspec": {
   "display_name": "Python 3 (ipykernel)",
   "language": "python",
   "name": "python3"
  },
  "language_info": {
   "codemirror_mode": {
    "name": "ipython",
    "version": 3
   },
   "file_extension": ".py",
   "mimetype": "text/x-python",
   "name": "python",
   "nbconvert_exporter": "python",
   "pygments_lexer": "ipython3",
   "version": "3.11.7"
  }
 },
 "nbformat": 4,
 "nbformat_minor": 4
}
